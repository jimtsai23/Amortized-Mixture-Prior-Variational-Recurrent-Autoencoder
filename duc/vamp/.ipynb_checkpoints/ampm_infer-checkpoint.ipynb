{
 "cells": [
  {
   "cell_type": "code",
   "execution_count": 1,
   "metadata": {},
   "outputs": [],
   "source": [
    "import sys\n",
    "sys.path.append('..')"
   ]
  },
  {
   "cell_type": "code",
   "execution_count": 2,
   "metadata": {},
   "outputs": [],
   "source": [
    "import torch\n",
    "from random import randint"
   ]
  },
  {
   "cell_type": "code",
   "execution_count": 4,
   "metadata": {},
   "outputs": [],
   "source": [
    "from ptb import PTB\n",
    "from vamp.model import vamp\n",
    "from utils import transform, interpolate"
   ]
  },
  {
   "cell_type": "code",
   "execution_count": 5,
   "metadata": {},
   "outputs": [],
   "source": [
    "# device configuration\n",
    "device = torch.device('cuda:0' if torch.cuda.is_available() else 'cpu')"
   ]
  },
  {
   "cell_type": "code",
   "execution_count": 6,
   "metadata": {},
   "outputs": [],
   "source": [
    "# Penn TreeBank (PTB) dataset\n",
    "data_path = '../data'\n",
    "max_len = 96\n",
    "dataset = PTB(root=data_path, split='train')\n",
    "idx_to_word = dataset.idx_to_word\n",
    "symbols = dataset.symbols"
   ]
  },
  {
   "cell_type": "code",
   "execution_count": 7,
   "metadata": {},
   "outputs": [],
   "source": [
    "# model setting\n",
    "embedding_size = 300\n",
    "hidden_size = 256\n",
    "latent_dim = 16\n",
    "dropout_rate = 0.5"
   ]
  },
  {
   "cell_type": "code",
   "execution_count": 8,
   "metadata": {},
   "outputs": [
    {
     "name": "stdout",
     "output_type": "stream",
     "text": [
      "Annealing VAE loaded from vamp/E19.pkl\n"
     ]
    }
   ],
   "source": [
    "# load the trained vamp model\n",
    "annealing_vae = vamp(vocab_size=dataset.vocab_size,\n",
    "                       embed_size=embedding_size,\n",
    "                       time_step=max_len,\n",
    "                       hidden_size=hidden_size,\n",
    "                       z_dim=latent_dim,\n",
    "                       dropout_rate=dropout_rate,\n",
    "                       bos_idx=symbols['<bos>'],\n",
    "                       eos_idx=symbols['<eos>'],\n",
    "                       pad_idx=symbols['<pad>'])\n",
    "annealing_vae_checkpoint_path = 'vamp/E19.pkl'\n",
    "annealing_vae.load_state_dict(torch.load(annealing_vae_checkpoint_path))\n",
    "annealing_vae = annealing_vae.to(device)\n",
    "annealing_vae.eval()\n",
    "print(\"Annealing VAE loaded from %s\" % annealing_vae_checkpoint_path)"
   ]
  },
  {
   "cell_type": "code",
   "execution_count": 9,
   "metadata": {},
   "outputs": [],
   "source": [
    "# show interpolation function\n",
    "def show(begin, end, interpolation):\n",
    "    print(begin)\n",
    "    print('-' * 80)\n",
    "    print(*transform(interpolation.cpu().numpy(),\n",
    "                     idx_to_word=idx_to_word,\n",
    "                     eos_idx=symbols['<eos>']), sep='\\n')\n",
    "    print('-' * 80)\n",
    "    print(end)"
   ]
  },
  {
   "cell_type": "code",
   "execution_count": 17,
   "metadata": {},
   "outputs": [
    {
     "name": "stdout",
     "output_type": "stream",
     "text": [
      "idx1 = 32 and idx2 = 33\n",
      "but you have to recognize that these events took place N years ago\n",
      "--------------------------------------------------------------------------------\n",
      "the <unk> <unk> <unk> <unk> <unk> <unk> <unk> <unk> and <unk> <unk>\n",
      "the <unk> <unk> <unk> <unk> <unk> <unk> <unk> <unk> <unk> <unk>\n",
      "the <unk> <unk> <unk> <unk> <unk> <unk> <unk> <unk> <unk> <unk>\n",
      "the <unk> <unk> <unk> <unk> <unk> <unk> <unk> <unk> <unk> <unk>\n",
      "the <unk> <unk> <unk> <unk> <unk> <unk> <unk> <unk> <unk>\n",
      "the <unk> <unk> <unk> <unk> <unk> <unk> <unk> <unk> <unk>\n",
      "the <unk> <unk> <unk> <unk> <unk> <unk> <unk> <unk>\n",
      "the <unk> <unk> <unk> <unk> <unk> <unk> <unk> <unk>\n",
      "the <unk> <unk> <unk> <unk> <unk> <unk> <unk> <unk>\n",
      "the <unk> <unk> <unk> <unk> <unk> <unk> <unk>\n",
      "--------------------------------------------------------------------------------\n",
      "it has no bearing on our work force today\n"
     ]
    }
   ],
   "source": [
    "# randomly sample from data\n",
    "num_sampels = 10\n",
    "#idx1, idx2 = randint(0, len(dataset)), randint(0, len(dataset))\n",
    "idx1, idx2 = 32,33\n",
    "print(\"idx1 = %d and idx2 = %d\" %(idx1, idx2))\n",
    "enc_seq1, dec_seq1, _, len1 = dataset[idx1]\n",
    "enc_seq2, dec_seq2, _, len2 = dataset[idx2]\n",
    "enc_seqs = torch.LongTensor([enc_seq1, enc_seq2]).to(device)\n",
    "dec_seqs = torch.LongTensor([dec_seq1, dec_seq2]).to(device)\n",
    "lens = torch.LongTensor([len1, len2]).to(device)\n",
    "begin_seq, end_seq = transform(enc_seqs.cpu().numpy(),\n",
    "                               idx_to_word=idx_to_word,\n",
    "                               eos_idx=symbols['<pad>'])\n",
    "# vamp VAE latent space interpolation\n",
    "_, _, z, _ = annealing_vae(enc_seqs, dec_seqs, lens)\n",
    "seq1_z, seq2_z = torch.chunk(z.data.cpu(), 2)\n",
    "seq1_z, seq2_z = seq1_z.squeeze().numpy(), seq2_z.squeeze().numpy()\n",
    "z = torch.Tensor(interpolate(seq1_z, seq2_z, num_sampels)).to(device)\n",
    "samples = annealing_vae.inference(z)\n",
    "show(begin_seq, end_seq, samples)"
   ]
  },
  {
   "cell_type": "code",
   "execution_count": 20,
   "metadata": {},
   "outputs": [
    {
     "name": "stdout",
     "output_type": "stream",
     "text": [
      "idx1 = 2 and idx2 = 33\n",
      "mr. <unk> is chairman of <unk> n.v. the dutch publishing group\n",
      "--------------------------------------------------------------------------------\n",
      "the <unk> <unk> <unk> <unk> <unk> <unk> and <unk> <unk>\n",
      "the <unk> <unk> <unk> <unk> <unk> <unk> and <unk> <unk>\n",
      "the <unk> <unk> <unk> <unk> <unk> <unk> and <unk> <unk>\n",
      "the <unk> <unk> <unk> <unk> <unk> <unk> and <unk> <unk>\n",
      "the <unk> <unk> <unk> <unk> <unk> <unk> and <unk> <unk>\n",
      "the <unk> <unk> <unk> <unk> <unk> <unk> <unk> <unk>\n",
      "the <unk> <unk> <unk> <unk> <unk> <unk> <unk> <unk>\n",
      "the <unk> <unk> <unk> <unk> <unk> <unk> <unk> <unk>\n",
      "the <unk> <unk> <unk> <unk> <unk> <unk> <unk> <unk>\n",
      "the <unk> <unk> <unk> <unk> <unk> <unk> <unk>\n",
      "--------------------------------------------------------------------------------\n",
      "it has no bearing on our work force today\n"
     ]
    }
   ],
   "source": [
    "# randomly sample from data\n",
    "num_sampels = 10\n",
    "#idx1, idx2 = randint(0, len(dataset)), randint(0, len(dataset))\n",
    "idx1, idx2 = 2,33\n",
    "print(\"idx1 = %d and idx2 = %d\" %(idx1, idx2))\n",
    "enc_seq1, dec_seq1, _, len1 = dataset[idx1]\n",
    "enc_seq2, dec_seq2, _, len2 = dataset[idx2]\n",
    "enc_seqs = torch.LongTensor([enc_seq1, enc_seq2]).to(device)\n",
    "dec_seqs = torch.LongTensor([dec_seq1, dec_seq2]).to(device)\n",
    "lens = torch.LongTensor([len1, len2]).to(device)\n",
    "begin_seq, end_seq = transform(enc_seqs.cpu().numpy(),\n",
    "                               idx_to_word=idx_to_word,\n",
    "                               eos_idx=symbols['<pad>'])\n",
    "# vamp VAE latent space interpolation\n",
    "_, _, z, _ = annealing_vae(enc_seqs, dec_seqs, lens)\n",
    "seq1_z, seq2_z = torch.chunk(z.data.cpu(), 2)\n",
    "seq1_z, seq2_z = seq1_z.squeeze().numpy(), seq2_z.squeeze().numpy()\n",
    "z = torch.Tensor(interpolate(seq1_z, seq2_z, num_sampels)).to(device)\n",
    "samples = annealing_vae.inference(z)\n",
    "show(begin_seq, end_seq, samples)"
   ]
  },
  {
   "cell_type": "code",
   "execution_count": 16,
   "metadata": {},
   "outputs": [
    {
     "name": "stdout",
     "output_type": "stream",
     "text": [
      "idx1 = 33 and idx2 = 59\n",
      "it has no bearing on our work force today\n",
      "--------------------------------------------------------------------------------\n",
      "the company said it will sell $ N million in the company\n",
      "the company said it will take a N N stake in the company\n",
      "the company said it will take a $ N million air force\n",
      "the company said it will take a new post of <unk>\n",
      "the company said it will take a new post of <unk>\n",
      "the company said it will take a new post\n",
      "the <unk> <unk> <unk> <unk> <unk> <unk> <unk> <unk>\n",
      "the <unk> <unk> <unk> <unk> <unk> <unk> <unk> <unk>\n",
      "the <unk> <unk> <unk> <unk> <unk> <unk> <unk> <unk>\n",
      "the <unk> <unk> <unk> <unk> <unk> <unk> <unk>\n",
      "--------------------------------------------------------------------------------\n",
      "it employs N people and has annual revenue of about $ N million\n"
     ]
    }
   ],
   "source": [
    "# randomly sample from data\n",
    "num_sampels = 10\n",
    "#idx1, idx2 = randint(0, len(dataset)), randint(0, len(dataset))\n",
    "idx1, idx2 = 33,59\n",
    "print(\"idx1 = %d and idx2 = %d\" %(idx1, idx2))\n",
    "enc_seq1, dec_seq1, _, len1 = dataset[idx1]\n",
    "enc_seq2, dec_seq2, _, len2 = dataset[idx2]\n",
    "enc_seqs = torch.LongTensor([enc_seq1, enc_seq2]).to(device)\n",
    "dec_seqs = torch.LongTensor([dec_seq1, dec_seq2]).to(device)\n",
    "lens = torch.LongTensor([len1, len2]).to(device)\n",
    "begin_seq, end_seq = transform(enc_seqs.cpu().numpy(),\n",
    "                               idx_to_word=idx_to_word,\n",
    "                               eos_idx=symbols['<pad>'])\n",
    "# vamp VAE latent space interpolation\n",
    "_, _, z, _ = annealing_vae(enc_seqs, dec_seqs, lens)\n",
    "seq1_z, seq2_z = torch.chunk(z.data.cpu(), 2)\n",
    "seq1_z, seq2_z = seq1_z.squeeze().numpy(), seq2_z.squeeze().numpy()\n",
    "z = torch.Tensor(interpolate(seq1_z, seq2_z, num_sampels)).to(device)\n",
    "samples = annealing_vae.inference(z)\n",
    "show(begin_seq, end_seq, samples)"
   ]
  },
  {
   "cell_type": "code",
   "execution_count": null,
   "metadata": {},
   "outputs": [],
   "source": []
  }
 ],
 "metadata": {
  "kernelspec": {
   "display_name": "Python 3",
   "language": "python",
   "name": "python3"
  },
  "language_info": {
   "codemirror_mode": {
    "name": "ipython",
    "version": 3
   },
   "file_extension": ".py",
   "mimetype": "text/x-python",
   "name": "python",
   "nbconvert_exporter": "python",
   "pygments_lexer": "ipython3",
   "version": "3.5.2"
  }
 },
 "nbformat": 4,
 "nbformat_minor": 2
}
