{
 "cells": [
  {
   "cell_type": "code",
   "execution_count": 1,
   "metadata": {},
   "outputs": [],
   "source": [
    "import sys\n",
    "sys.path.append('..')"
   ]
  },
  {
   "cell_type": "code",
   "execution_count": 2,
   "metadata": {},
   "outputs": [],
   "source": [
    "import torch\n",
    "from random import randint"
   ]
  },
  {
   "cell_type": "code",
   "execution_count": 3,
   "metadata": {},
   "outputs": [],
   "source": [
    "from ptb import PTB\n",
    "from iaf_m2 import iaf\n",
    "from utils import transform, interpolate"
   ]
  },
  {
   "cell_type": "code",
   "execution_count": 4,
   "metadata": {},
   "outputs": [],
   "source": [
    "# device configuration\n",
    "device = torch.device('cuda:0' if torch.cuda.is_available() else 'cpu')"
   ]
  },
  {
   "cell_type": "code",
   "execution_count": 5,
   "metadata": {},
   "outputs": [],
   "source": [
    "# Penn TreeBank (PTB) dataset\n",
    "data_path = '../data'\n",
    "max_len = 96\n",
    "dataset = PTB(root=data_path, split='train')\n",
    "idx_to_word = dataset.idx_to_word\n",
    "symbols = dataset.symbols"
   ]
  },
  {
   "cell_type": "code",
   "execution_count": 6,
   "metadata": {},
   "outputs": [],
   "source": [
    "# model setting\n",
    "embedding_size = 300\n",
    "hidden_size = 256\n",
    "latent_dim = 16\n",
    "dropout_rate = 0.5"
   ]
  },
  {
   "cell_type": "code",
   "execution_count": 15,
   "metadata": {},
   "outputs": [
    {
     "name": "stdout",
     "output_type": "stream",
     "text": [
      "Annealing VAE loaded from iaf/E19.pkl\n"
     ]
    }
   ],
   "source": [
    "# load the trained annealing model\n",
    "annealing_vae = iaf(vocab_size=dataset.vocab_size,\n",
    "                       embed_size=embedding_size,\n",
    "                       time_step=max_len,\n",
    "                       hidden_size=hidden_size,\n",
    "                       z_dim=latent_dim,\n",
    "                       dropout_rate=dropout_rate,\n",
    "                       bos_idx=symbols['<bos>'],\n",
    "                       eos_idx=symbols['<eos>'],\n",
    "                       pad_idx=symbols['<pad>'],\n",
    "                       n_comb=1)\n",
    "annealing_vae_checkpoint_path = 'iaf/E19.pkl'\n",
    "annealing_vae.load_state_dict(torch.load(annealing_vae_checkpoint_path))\n",
    "annealing_vae = annealing_vae.to(device)\n",
    "annealing_vae.eval()\n",
    "print(\"Annealing VAE loaded from %s\" % annealing_vae_checkpoint_path)"
   ]
  },
  {
   "cell_type": "code",
   "execution_count": 16,
   "metadata": {},
   "outputs": [],
   "source": [
    "# show interpolation function\n",
    "def show(begin, end, interpolation):\n",
    "    print(begin)\n",
    "    print('-' * 80)\n",
    "    print(*transform(interpolation.cpu().numpy(),\n",
    "                     idx_to_word=idx_to_word,\n",
    "                     eos_idx=symbols['<eos>']), sep='\\n')\n",
    "    print('-' * 80)\n",
    "    print(end)"
   ]
  },
  {
   "cell_type": "code",
   "execution_count": 17,
   "metadata": {},
   "outputs": [
    {
     "name": "stdout",
     "output_type": "stream",
     "text": [
      "idx1 = 15657 and idx2 = 31771\n"
     ]
    }
   ],
   "source": [
    "# randomly sample from data\n",
    "num_sampels = 5\n",
    "#idx1, idx2 = randint(0, len(dataset)), randint(0, len(dataset))\n",
    "idx1, idx2 = 15657, 31771\n",
    "print(\"idx1 = %d and idx2 = %d\" %(idx1, idx2))\n",
    "enc_seq1, dec_seq1, _, len1 = dataset[idx1]\n",
    "enc_seq2, dec_seq2, _, len2 = dataset[idx2]\n",
    "enc_seqs = torch.LongTensor([enc_seq1, enc_seq2]).to(device)\n",
    "dec_seqs = torch.LongTensor([dec_seq1, dec_seq2]).to(device)\n",
    "lens = torch.LongTensor([len1, len2]).to(device)\n",
    "begin_seq, end_seq = transform(enc_seqs.cpu().numpy(),\n",
    "                               idx_to_word=idx_to_word,\n",
    "                               eos_idx=symbols['<pad>'])"
   ]
  },
  {
   "cell_type": "code",
   "execution_count": 18,
   "metadata": {},
   "outputs": [
    {
     "name": "stdout",
     "output_type": "stream",
     "text": [
      "they wo n't have that incentive because they wo n't have that market\n",
      "--------------------------------------------------------------------------------\n",
      "the company 's decision to be acquired by the end of the year\n",
      "the company 's decision to be acquired by the end of the year\n",
      "the <unk> of the u.s. is the most important to the <unk>\n",
      "the <unk> of the <unk> is the most important to the <unk> of the world\n",
      "the <unk> <unk> is a <unk> of the <unk> of the world 's largest private-sector <unk>\n",
      "--------------------------------------------------------------------------------\n",
      "it is a <unk> that <unk> neither side in the debate\n"
     ]
    },
    {
     "name": "stderr",
     "output_type": "stream",
     "text": [
      "../iaf_m2.py:121: UserWarning: Implicit dimension choice for softmax has been deprecated. Change the call to include dim=X as an argument.\n",
      "  y = self.softmax(self.encoder_y(h_last))\n"
     ]
    }
   ],
   "source": [
    "# annealing VAE latent space interpolation\n",
    "_, _, z, _, _ = annealing_vae(enc_seqs, dec_seqs, lens)\n",
    "seq1_z, seq2_z = torch.chunk(z.data.cpu(), 2)\n",
    "seq1_z, seq2_z = seq1_z.squeeze().numpy(), seq2_z.squeeze().numpy()\n",
    "z = torch.Tensor(interpolate(seq1_z, seq2_z, num_sampels)).to(device)\n",
    "samples = annealing_vae.inference(z)\n",
    "show(begin_seq, end_seq, samples)"
   ]
  },
  {
   "cell_type": "code",
   "execution_count": null,
   "metadata": {},
   "outputs": [],
   "source": []
  }
 ],
 "metadata": {
  "kernelspec": {
   "display_name": "Python 3",
   "language": "python",
   "name": "python3"
  },
  "language_info": {
   "codemirror_mode": {
    "name": "ipython",
    "version": 3
   },
   "file_extension": ".py",
   "mimetype": "text/x-python",
   "name": "python",
   "nbconvert_exporter": "python",
   "pygments_lexer": "ipython3",
   "version": "3.5.2"
  }
 },
 "nbformat": 4,
 "nbformat_minor": 2
}
