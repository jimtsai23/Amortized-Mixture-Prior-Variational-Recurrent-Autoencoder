{
 "cells": [
  {
   "cell_type": "code",
   "execution_count": 1,
   "metadata": {},
   "outputs": [],
   "source": [
    "import sys\n",
    "sys.path.append('..')"
   ]
  },
  {
   "cell_type": "code",
   "execution_count": 2,
   "metadata": {},
   "outputs": [],
   "source": [
    "import os\n",
    "import time\n",
    "import math\n",
    "import numpy as np\n",
    "import scipy.io as sio\n",
    "import matplotlib.pyplot as plt\n",
    "import torch\n",
    "from torch import nn, optim\n",
    "from torch.utils.data import DataLoader\n",
    "from sklearn.manifold import TSNE\n",
    "from multiprocessing import cpu_count"
   ]
  },
  {
   "cell_type": "code",
   "execution_count": 3,
   "metadata": {},
   "outputs": [],
   "source": [
    "from yelp import Yelp\n",
    "from linear.model import RNNVAE\n",
    "from utils import linear_anneal, log_Normal_diag, log_Normal_standard"
   ]
  },
  {
   "cell_type": "code",
   "execution_count": 4,
   "metadata": {},
   "outputs": [],
   "source": [
    "# device configuration\n",
    "device = torch.device('cuda:0' if torch.cuda.is_available() else 'cpu')"
   ]
  },
  {
   "cell_type": "code",
   "execution_count": 5,
   "metadata": {},
   "outputs": [],
   "source": [
    "# Penn TreeBank (PTB) dataset\n",
    "data_path = '../data'\n",
    "max_len = 64\n",
    "splits = ['train', 'valid', 'test']\n",
    "datasets = {split: Yelp(root=data_path, split=split) for split in splits}"
   ]
  },
  {
   "cell_type": "code",
   "execution_count": 6,
   "metadata": {},
   "outputs": [
    {
     "data": {
      "text/plain": [
       "12001"
      ]
     },
     "execution_count": 6,
     "metadata": {},
     "output_type": "execute_result"
    }
   ],
   "source": [
    "len(datasets['train'].word_to_idx)"
   ]
  },
  {
   "cell_type": "code",
   "execution_count": 7,
   "metadata": {},
   "outputs": [],
   "source": [
    "# data loader\n",
    "batch_size = 32\n",
    "dataloaders = {split: DataLoader(datasets[split],\n",
    "                                 batch_size=batch_size,\n",
    "                                 shuffle=split=='train',\n",
    "                                 num_workers=cpu_count(),\n",
    "                                 pin_memory=torch.cuda.is_available())\n",
    "                                 for split in splits}\n",
    "symbols = datasets['train'].symbols"
   ]
  },
  {
   "cell_type": "code",
   "execution_count": 8,
   "metadata": {},
   "outputs": [],
   "source": [
    "# RNNVAE model\n",
    "embedding_size = 300\n",
    "hidden_size = 256\n",
    "latent_dim = 32\n",
    "dropout_rate = 0.5\n",
    "model = RNNVAE(vocab_size=datasets['train'].vocab_size,\n",
    "               embed_size=embedding_size,\n",
    "               time_step=max_len,\n",
    "               hidden_size=hidden_size,\n",
    "               z_dim=latent_dim,\n",
    "               dropout_rate=dropout_rate,\n",
    "               bos_idx=symbols['<bos>'],\n",
    "               eos_idx=symbols['<eos>'],\n",
    "               pad_idx=symbols['<pad>'])\n",
    "model = model.to(device)"
   ]
  },
  {
   "cell_type": "code",
   "execution_count": 9,
   "metadata": {},
   "outputs": [],
   "source": [
    "# folder to save model\n",
    "save_path = 'linear'\n",
    "if not os.path.exists(save_path):\n",
    "    os.makedirs(save_path)"
   ]
  },
  {
   "cell_type": "code",
   "execution_count": 10,
   "metadata": {},
   "outputs": [],
   "source": [
    "# objective function\n",
    "learning_rate = 0.001\n",
    "criterion = nn.NLLLoss(size_average=False, ignore_index=symbols['<pad>'])\n",
    "optimizer = optim.Adam(model.parameters(), lr=learning_rate)\n",
    "\n",
    "# negative log likelihood\n",
    "def NLL(logp, target, length):\n",
    "    target = target[:, :torch.max(length).item()].contiguous().view(-1)\n",
    "    logp = logp.view(-1, logp.size(-1))\n",
    "    return criterion(logp, target)\n",
    "\n",
    "# KL divergence\n",
    "def KL_div(mu, logvar):\n",
    "    return -0.5 * torch.sum(1. + logvar - mu.pow(2) - logvar.exp())"
   ]
  },
  {
   "cell_type": "code",
   "execution_count": 11,
   "metadata": {},
   "outputs": [],
   "source": [
    "# training setting\n",
    "epoch = 20\n",
    "print_every = 50"
   ]
  },
  {
   "cell_type": "code",
   "execution_count": 12,
   "metadata": {
    "scrolled": false
   },
   "outputs": [
    {
     "name": "stdout",
     "output_type": "stream",
     "text": [
      "TRAIN Epoch 00/20, ELBO 247.2820, NLL 247.0584, KL 4.4094, PPL 180.6669\n",
      "VALID Epoch 00/20, ELBO 223.6974, NLL 223.2572, KL 4.0018, PPL 108.4344\n",
      "TEST Epoch 00/20, ELBO 222.7498, NLL 222.3134, KL 3.9670, PPL 107.9152\n",
      "\n",
      "\n",
      "TRAIN Epoch 01/20, ELBO 221.3350, NLL 220.6275, KL 4.4056, PPL 103.6173\n",
      "VALID Epoch 01/20, ELBO 213.5146, NLL 212.5682, KL 4.5067, PPL 86.6420\n",
      "TEST Epoch 01/20, ELBO 212.5680, NLL 211.6190, KL 4.5189, PPL 86.1550\n",
      "\n",
      "\n",
      "TRAIN Epoch 02/20, ELBO 213.1431, NLL 211.9548, KL 4.5720, PPL 86.3390\n",
      "VALID Epoch 02/20, ELBO 208.3079, NLL 206.8780, KL 4.6125, PPL 76.8879\n",
      "TEST Epoch 02/20, ELBO 207.4248, NLL 205.9921, KL 4.6216, PPL 76.5284\n",
      "\n",
      "\n",
      "TRAIN Epoch 03/20, ELBO 208.1073, NLL 206.4973, KL 4.4773, PPL 76.9756\n",
      "VALID Epoch 03/20, ELBO 205.0338, NLL 203.2041, KL 4.4626, PPL 71.1815\n",
      "TEST Epoch 03/20, ELBO 204.2065, NLL 202.3936, KL 4.4217, PPL 70.9436\n",
      "\n",
      "\n",
      "TRAIN Epoch 04/20, ELBO 204.7593, NLL 202.7964, KL 4.2725, PPL 71.2107\n",
      "VALID Epoch 04/20, ELBO 203.1124, NLL 201.0591, KL 4.0260, PPL 68.0478\n",
      "TEST Epoch 04/20, ELBO 202.2547, NLL 200.2010, KL 4.0268, PPL 67.7426\n",
      "\n",
      "\n",
      "TRAIN Epoch 05/20, ELBO 202.1000, NLL 199.8589, KL 4.0077, PPL 66.9439\n",
      "VALID Epoch 05/20, ELBO 201.8042, NLL 199.4565, KL 3.8488, PPL 65.7968\n",
      "TEST Epoch 05/20, ELBO 201.0701, NLL 198.7378, KL 3.8234, PPL 65.6872\n",
      "\n",
      "\n",
      "TRAIN Epoch 06/20, ELBO 199.9623, NLL 197.5561, KL 3.6513, PPL 63.7786\n",
      "VALID Epoch 06/20, ELBO 201.0267, NLL 198.6930, KL 3.2870, PPL 64.7507\n",
      "TEST Epoch 06/20, ELBO 200.2745, NLL 197.9483, KL 3.2764, PPL 64.6041\n",
      "\n",
      "\n",
      "TRAIN Epoch 07/20, ELBO 198.4372, NLL 195.9558, KL 3.2699, PPL 61.6675\n",
      "VALID Epoch 07/20, ELBO 200.2671, NLL 197.7504, KL 3.1069, PPL 63.4823\n",
      "TEST Epoch 07/20, ELBO 199.5907, NLL 197.1098, KL 3.0628, PPL 63.4735\n",
      "\n",
      "\n",
      "TRAIN Epoch 08/20, ELBO 197.0147, NLL 194.5485, KL 2.8718, PPL 59.8689\n",
      "VALID Epoch 08/20, ELBO 199.6452, NLL 197.2362, KL 2.6472, PPL 62.8008\n",
      "TEST Epoch 08/20, ELBO 199.0312, NLL 196.6261, KL 2.6429, PPL 62.8303\n",
      "\n",
      "\n",
      "TRAIN Epoch 09/20, ELBO 195.7768, NLL 193.4092, KL 2.4714, PPL 58.4512\n",
      "VALID Epoch 09/20, ELBO 199.3038, NLL 197.0685, KL 2.2354, PPL 62.5801\n",
      "TEST Epoch 09/20, ELBO 198.6139, NLL 196.3927, KL 2.2212, PPL 62.5222\n",
      "\n",
      "\n",
      "TRAIN Epoch 10/20, ELBO 192.9815, NLL 190.7603, KL 2.2211, PPL 55.2835\n",
      "VALID Epoch 10/20, ELBO 198.0255, NLL 195.8585, KL 2.1670, PPL 61.0108\n",
      "TEST Epoch 10/20, ELBO 197.3591, NLL 195.1992, KL 2.1599, PPL 60.9705\n",
      "\n",
      "\n",
      "TRAIN Epoch 11/20, ELBO 191.8923, NLL 189.6947, KL 2.1976, PPL 54.0581\n",
      "VALID Epoch 11/20, ELBO 197.8075, NLL 195.7405, KL 2.0670, PPL 60.8598\n",
      "TEST Epoch 11/20, ELBO 197.1504, NLL 195.0879, KL 2.0625, PPL 60.8278\n",
      "\n",
      "\n",
      "TRAIN Epoch 12/20, ELBO 190.3827, NLL 188.2174, KL 2.1653, PPL 52.4042\n",
      "VALID Epoch 12/20, ELBO 196.9460, NLL 194.8479, KL 2.0981, PPL 59.7301\n",
      "TEST Epoch 12/20, ELBO 196.2956, NLL 194.1704, KL 2.1252, PPL 59.6638\n",
      "\n",
      "\n",
      "TRAIN Epoch 13/20, ELBO 189.7583, NLL 187.6047, KL 2.1537, PPL 51.7331\n",
      "VALID Epoch 13/20, ELBO 196.7409, NLL 194.5610, KL 2.1799, PPL 59.3716\n",
      "TEST Epoch 13/20, ELBO 196.0458, NLL 193.9031, KL 2.1427, PPL 59.3289\n",
      "\n",
      "\n",
      "TRAIN Epoch 14/20, ELBO 188.9714, NLL 186.8175, KL 2.1539, PPL 50.8836\n",
      "VALID Epoch 14/20, ELBO 196.5034, NLL 194.4078, KL 2.0956, PPL 59.1810\n",
      "TEST Epoch 14/20, ELBO 195.8212, NLL 193.7096, KL 2.1116, PPL 59.0877\n",
      "\n",
      "\n",
      "TRAIN Epoch 15/20, ELBO 188.6619, NLL 186.5255, KL 2.1364, PPL 50.5721\n",
      "VALID Epoch 15/20, ELBO 196.3515, NLL 194.2577, KL 2.0939, PPL 58.9948\n",
      "TEST Epoch 15/20, ELBO 195.6664, NLL 193.5905, KL 2.0759, PPL 58.9397\n",
      "\n",
      "\n",
      "TRAIN Epoch 16/20, ELBO 188.1967, NLL 186.0629, KL 2.1337, PPL 50.0824\n",
      "VALID Epoch 16/20, ELBO 196.1445, NLL 194.0514, KL 2.0932, PPL 58.7399\n",
      "TEST Epoch 16/20, ELBO 195.4466, NLL 193.3707, KL 2.0759, PPL 58.6675\n",
      "\n",
      "\n",
      "TRAIN Epoch 17/20, ELBO 188.0490, NLL 185.9159, KL 2.1331, PPL 49.9278\n",
      "VALID Epoch 17/20, ELBO 196.2087, NLL 194.1279, KL 2.0808, PPL 58.8342\n",
      "TEST Epoch 17/20, ELBO 195.5049, NLL 193.4343, KL 2.0706, PPL 58.7461\n",
      "\n",
      "\n",
      "TRAIN Epoch 18/20, ELBO 187.7818, NLL 185.6544, KL 2.1274, PPL 49.6539\n",
      "VALID Epoch 18/20, ELBO 196.0030, NLL 193.9299, KL 2.0730, PPL 58.5903\n",
      "TEST Epoch 18/20, ELBO 195.3276, NLL 193.2517, KL 2.0759, PPL 58.5207\n",
      "\n",
      "\n",
      "TRAIN Epoch 19/20, ELBO 187.7054, NLL 185.5773, KL 2.1281, PPL 49.5734\n",
      "VALID Epoch 19/20, ELBO 195.9771, NLL 193.8955, KL 2.0816, PPL 58.5480\n",
      "TEST Epoch 19/20, ELBO 195.2850, NLL 193.1806, KL 2.1044, PPL 58.4331\n",
      "\n",
      "\n",
      "Total cost time 00 hr 37 min 25 sec\n"
     ]
    }
   ],
   "source": [
    "# training interface\n",
    "step = 0\n",
    "tracker = {'ELBO': [], 'NLL': [], 'KL': [], 'KL_weight': []}\n",
    "start_time = time.time()\n",
    "for ep in range(epoch):\n",
    "    # learning rate decay\n",
    "    if ep >= 10 and ep % 2 == 0:\n",
    "        learning_rate = learning_rate * 0.5\n",
    "        for param_group in optimizer.param_groups:\n",
    "            param_group['lr'] = learning_rate\n",
    "\n",
    "    for split in splits:\n",
    "        dataloader = dataloaders[split]\n",
    "        model.train() if split == 'train' else model.eval()\n",
    "        totals = {'ELBO': 0., 'NLL': 0., 'KL': 0., 'words': 0}\n",
    "\n",
    "        for itr, (enc_inputs, dec_inputs, targets, lengths, labels) in enumerate(dataloader):\n",
    "            bsize = enc_inputs.size(0)\n",
    "            enc_inputs = enc_inputs.to(device)\n",
    "            dec_inputs = dec_inputs.to(device)\n",
    "            targets = targets.to(device)\n",
    "            lengths = lengths.to(device)\n",
    "            labels = labels.to(device)\n",
    "\n",
    "            # forward\n",
    "            logp, z, mu, logvar, labels = model(enc_inputs, dec_inputs, lengths, labels)\n",
    "\n",
    "            # calculate loss\n",
    "            NLL_loss = NLL(logp, targets, lengths + 1)\n",
    "            #KL_loss = KL_div(mu, logvar)\n",
    "            \n",
    "            log_p_z = log_Normal_standard(z, dim=1)\n",
    "            log_q_z = log_Normal_diag(z, mu, logvar, dim=1)\n",
    "            KL_loss = torch.sum(-(log_p_z - log_q_z))\n",
    "            \n",
    "            KL_weight = linear_anneal(step, len(dataloaders['train']) * 10)\n",
    "            loss = (NLL_loss + KL_weight * KL_loss) / bsize\n",
    "\n",
    "            # cumulate\n",
    "            totals['ELBO'] += loss.item() * bsize\n",
    "            totals['NLL'] += NLL_loss.item()\n",
    "            totals['KL'] += KL_loss.item()\n",
    "            totals['words'] += torch.sum(lengths).item()\n",
    "\n",
    "            # backward and optimize\n",
    "            if split == 'train':\n",
    "                step += 1\n",
    "                optimizer.zero_grad()\n",
    "                loss.backward()\n",
    "                nn.utils.clip_grad_norm_(model.parameters(), 5)\n",
    "                optimizer.step()\n",
    "\n",
    "                # track\n",
    "                tracker['ELBO'].append(loss.item())\n",
    "                tracker['NLL'].append(NLL_loss.item() / bsize)\n",
    "                tracker['KL'].append(KL_loss.item() / bsize)\n",
    "                tracker['KL_weight'].append(KL_weight)\n",
    "\n",
    "                if(False):\n",
    "                    # print statistics\n",
    "                    if itr % print_every == 0 or itr + 1 == len(dataloader):\n",
    "                        print(\"%s Batch %04d/%04d, ELBO-Loss %.4f, \"\n",
    "                              \"NLL-Loss %.4f, KL-Loss %.4f, KL-Weight %.4f\"\n",
    "                              % (split.upper(), itr, len(dataloader),\n",
    "                                 tracker['ELBO'][-1], tracker['NLL'][-1],\n",
    "                                 tracker['KL'][-1], tracker['KL_weight'][-1]))\n",
    "\n",
    "        samples = len(datasets[split])\n",
    "        print(\"%s Epoch %02d/%02d, ELBO %.4f, NLL %.4f, KL %.4f, PPL %.4f\"\n",
    "              % (split.upper(), ep, epoch, totals['ELBO'] / samples,\n",
    "                 totals['NLL'] / samples, totals['KL'] / samples,\n",
    "                 math.exp(totals['NLL'] / totals['words'])))\n",
    "    \n",
    "    print('\\n')\n",
    "    # save checkpoint\n",
    "    #checkpoint_path = os.path.join(save_path, \"E%02d.pkl\" % ep)\n",
    "    #torch.save(model.state_dict(), checkpoint_path)\n",
    "    #print(\"Model saved at %s\\n\" % checkpoint_path)\n",
    "end_time = time.time()\n",
    "print('Total cost time',\n",
    "      time.strftime(\"%H hr %M min %S sec\", time.gmtime(end_time - start_time)))"
   ]
  },
  {
   "cell_type": "code",
   "execution_count": 13,
   "metadata": {},
   "outputs": [
    {
     "name": "stdout",
     "output_type": "stream",
     "text": [
      "4\n",
      "tensor([ 0.0002,  0.0002,  0.0001,  0.0002,  0.0002,  0.0002,  0.0002,\n",
      "         0.7812,  0.0002,  0.0002,  0.3798,  0.0003,  0.0002,  0.0002,\n",
      "         0.0002,  0.0002,  0.6207,  0.0002,  0.0002,  0.0001,  0.0001,\n",
      "         0.0002,  0.0002,  0.6160,  0.0002,  0.0002,  0.0002,  0.0002,\n",
      "         0.0002,  0.0002,  0.0003,  0.0002], device='cuda:0')\n"
     ]
    }
   ],
   "source": [
    "# calculate au\n",
    "\n",
    "delta = 0.01\n",
    "with torch.no_grad():\n",
    "    model.eval()\n",
    "    cnt = 0\n",
    "    for itr, (enc_inputs, dec_inputs, targets, lengths, labels) in enumerate(dataloaders['test']):\n",
    "        bsize = enc_inputs.size(0)\n",
    "        enc_inputs = enc_inputs.to(device)\n",
    "        dec_inputs = dec_inputs.to(device)\n",
    "        targets = targets.to(device)\n",
    "        lengths = lengths.to(device)\n",
    "        labels = labels.to(device)\n",
    "\n",
    "        # forward\n",
    "        logp, z, mu, logvar, labels = model(enc_inputs, dec_inputs, lengths, labels)\n",
    "        \n",
    "        if cnt == 0:\n",
    "            mu_sum = mu.sum(dim=0, keepdim=True)\n",
    "        else:\n",
    "            mu_sum = mu_sum + mu.sum(dim=0, keepdim=True)\n",
    "        cnt += mu.size(0)\n",
    "        \n",
    "    mu_mean = mu_sum / cnt\n",
    "        \n",
    "    cnt = 0\n",
    "    for itr, (enc_inputs, dec_inputs, targets, lengths, labels) in enumerate(dataloaders['test']):\n",
    "        bsize = enc_inputs.size(0)\n",
    "        enc_inputs = enc_inputs.to(device)\n",
    "        dec_inputs = dec_inputs.to(device)\n",
    "        targets = targets.to(device)\n",
    "        lengths = lengths.to(device)\n",
    "        labels = labels.to(device)\n",
    "\n",
    "        # forward\n",
    "        logp, z, mu, logvar, labels = model(enc_inputs, dec_inputs, lengths, labels)\n",
    "        \n",
    "        if cnt == 0:\n",
    "            var_sum = ((mu - mu_mean) ** 2).sum(dim=0)\n",
    "        else:\n",
    "            var_sum = var_sum + ((mu - mu_mean) ** 2).sum(dim=0)\n",
    "        cnt += mu.size(0)\n",
    "        \n",
    "    au_var = var_sum / (cnt - 1)\n",
    "    \n",
    "    print((au_var >= delta).sum().item())\n",
    "    print(au_var)"
   ]
  },
  {
   "cell_type": "code",
   "execution_count": 14,
   "metadata": {},
   "outputs": [
    {
     "data": {
      "image/png": "[encoded data removed]",
      "text/plain": [
       "<matplotlib.figure.Figure at 0x7f67fc2119e8>"
      ]
     },
     "metadata": {},
     "output_type": "display_data"
    }
   ],
   "source": [
    "# plot KL curve\n",
    "fig, ax1 = plt.subplots()\n",
    "lns1 = ax1.plot(tracker['KL_weight'], 'b', label='KL term weight')\n",
    "ax1.set_ylim([-0.05, 1.05])\n",
    "ax1.set_xlabel('Step')\n",
    "ax1.set_ylabel('KL term weight')\n",
    "ax2 = ax1.twinx()\n",
    "lns2 = ax2.plot(tracker['KL'], 'r', label='KL term value')\n",
    "ax2.set_ylabel('KL term value')\n",
    "lns = lns1 + lns2\n",
    "labs = [l.get_label() for l in lns]\n",
    "ax1.legend(lns, labs, bbox_to_anchor=(0., 1.02, 1., .102),\n",
    "           ncol=2, mode=\"expand\", borderaxespad=0.)\n",
    "plt.show()"
   ]
  },
  {
   "cell_type": "code",
   "execution_count": 28,
   "metadata": {
    "scrolled": false
   },
   "outputs": [],
   "source": [
    "# latent space visualization\n",
    "features = np.empty([len(datasets['test']), latent_dim])\n",
    "feat_label = np.empty(len(datasets['test']))\n",
    "for itr, (enc_inputs, dec_inputs, _, lengths, labels) in enumerate(dataloaders['test']):\n",
    "    enc_inputs = enc_inputs.to(device)\n",
    "    dec_inputs = dec_inputs.to(device)\n",
    "    lengths = lengths.to(device)\n",
    "    labels = labels.to(device)\n",
    "    _, _, mu, _, labels = model(enc_inputs, dec_inputs, lengths, labels)\n",
    "    start, end = batch_size * itr, batch_size * (itr + 1)\n",
    "    features[start:end] = mu.data.cpu().numpy()\n",
    "    feat_label[start:end] = labels.data.cpu().numpy()"
   ]
  },
  {
   "cell_type": "code",
   "execution_count": 29,
   "metadata": {},
   "outputs": [],
   "source": [
    "tsne_z = TSNE(n_components=2,perplexity=5, early_exaggeration=100).fit_transform(features)\n",
    "tracker['z'] = tsne_z\n",
    "tracker['label'] = feat_label"
   ]
  },
  {
   "cell_type": "code",
   "execution_count": 45,
   "metadata": {
    "scrolled": true
   },
   "outputs": [
    {
     "data": {
      "image/png": "[encoded data removed]",
      "text/plain": [
       "<matplotlib.figure.Figure at 0x7f67fc75e908>"
      ]
     },
     "metadata": {},
     "output_type": "display_data"
    }
   ],
   "source": [
    "plt.figure()\n",
    "feat_label = feat_label.astype(int)\n",
    "for i in range(0,1):\n",
    "    plt.scatter(tsne_z[np.where(feat_label == i), 0], tsne_z[np.where(feat_label == i), 1], s=10, alpha=0.5)\n",
    "plt.show()"
   ]
  },
  {
   "cell_type": "code",
   "execution_count": 46,
   "metadata": {},
   "outputs": [
    {
     "data": {
      "image/png": "[encoded data removed]",
      "text/plain": [
       "<matplotlib.figure.Figure at 0x7f68a04137f0>"
      ]
     },
     "metadata": {},
     "output_type": "display_data"
    }
   ],
   "source": [
    "plt.figure()\n",
    "feat_label = feat_label.astype(float)\n",
    "for i in range(0,1):\n",
    "    plt.scatter(tsne_z[np.where(feat_label == i), 0], tsne_z[np.where(feat_label == i), 1], s=10, alpha=0.5)\n",
    "plt.show()"
   ]
  },
  {
   "cell_type": "code",
   "execution_count": 16,
   "metadata": {},
   "outputs": [],
   "source": [
    "# save learning results\n",
    "sio.savemat(\"linear.mat\", tracker)"
   ]
  },
  {
   "cell_type": "code",
   "execution_count": 77,
   "metadata": {},
   "outputs": [
    {
     "data": {
      "text/plain": [
       "array([0., 0., 0., 0., 0., 0., 0., 0., 0., 0., 0., 0., 0., 0., 0., 0., 0.,\n",
       "       0., 0., 0., 0., 0., 0., 0., 0., 0., 0., 0., 0., 0., 0., 0.])"
      ]
     },
     "execution_count": 77,
     "metadata": {},
     "output_type": "execute_result"
    }
   ],
   "source": [
    "mean = np.zeros(32)\n",
    "mean"
   ]
  },
  {
   "cell_type": "code",
   "execution_count": 78,
   "metadata": {},
   "outputs": [
    {
     "data": {
      "text/plain": [
       "array([[1., 0., 0., ..., 0., 0., 0.],\n",
       "       [0., 1., 0., ..., 0., 0., 0.],\n",
       "       [0., 0., 1., ..., 0., 0., 0.],\n",
       "       ...,\n",
       "       [0., 0., 0., ..., 1., 0., 0.],\n",
       "       [0., 0., 0., ..., 0., 1., 0.],\n",
       "       [0., 0., 0., ..., 0., 0., 1.]])"
      ]
     },
     "execution_count": 78,
     "metadata": {},
     "output_type": "execute_result"
    }
   ],
   "source": [
    "cov = np.eye(32)\n",
    "cov"
   ]
  },
  {
   "cell_type": "code",
   "execution_count": 79,
   "metadata": {
    "scrolled": true
   },
   "outputs": [
    {
     "ename": "ValueError",
     "evalue": "too many values to unpack (expected 2)",
     "output_type": "error",
     "traceback": [
      "\u001b[0;31m---------------------------------------------------------------------------\u001b[0m",
      "\u001b[0;31mValueError\u001b[0m                                Traceback (most recent call last)",
      "\u001b[0;32m<ipython-input-79-6082a037f5bb>\u001b[0m in \u001b[0;36m<module>\u001b[0;34m()\u001b[0m\n\u001b[1;32m      1\u001b[0m \u001b[0ma\u001b[0m \u001b[0;34m=\u001b[0m \u001b[0mnp\u001b[0m\u001b[0;34m.\u001b[0m\u001b[0mrandom\u001b[0m\u001b[0;34m.\u001b[0m\u001b[0mmultivariate_normal\u001b[0m\u001b[0;34m(\u001b[0m\u001b[0mmean\u001b[0m\u001b[0;34m,\u001b[0m \u001b[0mcov\u001b[0m\u001b[0;34m,\u001b[0m \u001b[0;36m5000\u001b[0m\u001b[0;34m)\u001b[0m\u001b[0;34m\u001b[0m\u001b[0m\n\u001b[1;32m      2\u001b[0m \u001b[0mb\u001b[0m \u001b[0;34m=\u001b[0m \u001b[0ma\u001b[0m\u001b[0;34m.\u001b[0m\u001b[0mT\u001b[0m\u001b[0;34m\u001b[0m\u001b[0m\n\u001b[0;32m----> 3\u001b[0;31m \u001b[0mx\u001b[0m\u001b[0;34m,\u001b[0m\u001b[0my\u001b[0m \u001b[0;34m=\u001b[0m \u001b[0mb\u001b[0m\u001b[0;34m\u001b[0m\u001b[0m\n\u001b[0m",
      "\u001b[0;31mValueError\u001b[0m: too many values to unpack (expected 2)"
     ]
    }
   ],
   "source": [
    "a = np.random.multivariate_normal(mean, cov, 5000)\n",
    "sne_a = TSNE(n_components=2,perplexity=5, early_exaggeration=100).fit_transform(a)\n"
   ]
  },
  {
   "cell_type": "code",
   "execution_count": 76,
   "metadata": {},
   "outputs": [
    {
     "data": {
      "image/png": "[encoded data removed]",
      "text/plain": [
       "<matplotlib.figure.Figure at 0x7f6888664ef0>"
      ]
     },
     "metadata": {},
     "output_type": "display_data"
    }
   ],
   "source": [
    "plt.scatter(sne_a[:, 0], sne_a[:, 1], s=10, alpha=0.5)\n",
    "plt.show()"
   ]
  },
  {
   "cell_type": "code",
   "execution_count": null,
   "metadata": {},
   "outputs": [],
   "source": []
  }
 ],
 "metadata": {
  "kernelspec": {
   "display_name": "Python 3",
   "language": "python",
   "name": "python3"
  },
  "language_info": {
   "codemirror_mode": {
    "name": "ipython",
    "version": 3
   },
   "file_extension": ".py",
   "mimetype": "text/x-python",
   "name": "python",
   "nbconvert_exporter": "python",
   "pygments_lexer": "ipython3",
   "version": "3.5.2"
  }
 },
 "nbformat": 4,
 "nbformat_minor": 2
}
